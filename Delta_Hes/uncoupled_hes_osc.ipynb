{
 "cells": [
  {
   "cell_type": "code",
   "execution_count": 5,
   "id": "43de22f2",
   "metadata": {},
   "outputs": [],
   "source": [
    "import numpy as np\n",
    "import matplotlib.pyplot as plt\n",
    "from types import SimpleNamespace\n",
    "from matplotlib.animation import FuncAnimation\n",
    "from matplotlib.colors import LogNorm\n",
    "from scipy.signal import find_peaks, correlate\n",
    "from IPython.display import HTML\n",
    "from tqdm import tqdm\n",
    "import pickle\n",
    "import matplotlib.cm as cm\n",
    "import visualisation as vis\n",
    "from delta_hes_model import *"
   ]
  },
  {
   "cell_type": "code",
   "execution_count": 27,
   "id": "8b1fa712",
   "metadata": {},
   "outputs": [],
   "source": [
    "#set the lattice of the cells \n",
    "P = 2\n",
    "Q = 1\n",
    "\n",
    "lattice = get_lattice(P, Q)\n",
    "\n",
    "# set initial parameters of the reactions \n",
    "gamma_h = 0.03\n",
    "gamma_d = 0.03\n",
    "gamma_m = 0.03\n",
    "p_h = 100\n",
    "p_d = 50\n",
    "\n",
    "T_coupling = 0\n",
    "w_h = 1\n",
    "l = 5\n",
    "n = 3\n",
    "\n",
    "# the important parameters for this test\n",
    "T_h = 20     # delay in Hes of first cell\n",
    "\n",
    "num_tsteps = 60000\n",
    "dt = 0.1"
   ]
  },
  {
   "cell_type": "code",
   "execution_count": 28,
   "id": "bf12194b",
   "metadata": {},
   "outputs": [],
   "source": [
    "#uncoupled periods: \n",
    "w_coupling = 0 \n",
    "\n",
    "params = get_params(gamma_h, gamma_d, gamma_m, p_h, p_d, T_h, T_coupling, w_h, w_coupling, l, n, lattice, grad_hes = False , grad_coup = False, grad_hes_strength = 0, grad_coup_strength = 0)\n"
   ]
  },
  {
   "cell_type": "code",
   "execution_count": 29,
   "id": "97ee511a",
   "metadata": {},
   "outputs": [
    {
     "name": "stderr",
     "output_type": "stream",
     "text": [
      "100%|██████████| 59999/59999 [00:16<00:00, 3732.70it/s]\n",
      "100%|██████████| 59999/59999 [00:17<00:00, 3452.89it/s]\n",
      "100%|██████████| 59999/59999 [00:10<00:00, 5544.57it/s]\n",
      "100%|██████████| 59999/59999 [00:11<00:00, 5231.35it/s]\n",
      "100%|██████████| 59999/59999 [00:11<00:00, 5304.27it/s]\n",
      "100%|██████████| 59999/59999 [00:13<00:00, 4607.88it/s]\n",
      "100%|██████████| 59999/59999 [00:16<00:00, 3644.64it/s]\n",
      "100%|██████████| 59999/59999 [00:17<00:00, 3333.88it/s]\n",
      "100%|██████████| 59999/59999 [00:15<00:00, 3846.15it/s]\n",
      "100%|██████████| 59999/59999 [00:15<00:00, 3763.87it/s]\n",
      "100%|██████████| 59999/59999 [00:16<00:00, 3749.45it/s]\n"
     ]
    }
   ],
   "source": [
    "hes_delays = np.linspace(0, 1, 11) + 20 \n",
    "\n",
    "results_uncoupled = np.zeros((len(hes_delays), num_tsteps, 2))\n",
    "\n",
    "for i in range(len(hes_delays)):\n",
    "    T_h = hes_delays[i]  # set the delay in Hes of first cell\n",
    "    params = get_params(gamma_h, gamma_d, gamma_m, p_h, p_d, T_h, T_coupling, w_h, w_coupling, l, n, lattice, grad_hes = False , grad_coup = False, grad_hes_strength = 0, grad_coup_strength = 0)\n",
    "    h, m_h, d, m_d = simulate(num_tsteps, dt, lattice, params, coupling_type= 'Delta', initial_type='uniform')\n",
    "    results_uncoupled[i,:,0] = h[:,0].flatten()\n",
    "    results_uncoupled[i,:,1] = d[:,0].flatten()\n"
   ]
  },
  {
   "cell_type": "code",
   "execution_count": 30,
   "id": "4b7e85b1",
   "metadata": {},
   "outputs": [],
   "source": [
    "def estimate_period_from_peaks(signal, time=None, height=None, distance=500, prominence=None):\n",
    "    \"\"\"\n",
    "    Estimate the period of an oscillating signal using peak detection.\n",
    "\n",
    "    Parameters:\n",
    "    - signal: 1D numpy array of the signal values\n",
    "    - time: Optional 1D array of time values (same length as signal). If None, assume uniform time steps.\n",
    "    - height, distance, prominence: Optional arguments passed to find_peaks\n",
    "    - ignore_initial_outlier: If True, ignores the first peak if it's a large outlier\n",
    "\n",
    "    Returns:\n",
    "    - period: Estimated average period (float)\n",
    "    - peak_times: Time values of the detected peaks\n",
    "    \"\"\"\n",
    "    # Find peaks\n",
    "    peaks, _ = find_peaks(signal, height=height, distance=distance, prominence=prominence)\n",
    "\n",
    "    if len(peaks) < 2:\n",
    "        return None, np.array([])  # Not enough peaks to estimate period\n",
    "\n",
    "    # Optionally remove initial outlier peak\n",
    "    peak_vals = signal[peaks]\n",
    "\n",
    "    # Assume uniform spacing if time is not given\n",
    "    if time is None:\n",
    "        time = np.arange(len(signal))\n",
    "\n",
    "    peak_times = time[peaks]\n",
    "\n",
    "    if len(peak_times) < 2:\n",
    "        return None, peak_times  # Still not enough peaks\n",
    "\n",
    "    # Calculate differences between consecutive peaks\n",
    "    peak_diffs = np.diff(peak_times)\n",
    "    period = np.mean(peak_diffs)\n",
    "\n",
    "    return period, peak_times"
   ]
  },
  {
   "cell_type": "code",
   "execution_count": 31,
   "id": "7d1c266e",
   "metadata": {},
   "outputs": [
    {
     "name": "stdout",
     "output_type": "stream",
     "text": [
      "Periods for uncoupled oscillations: [125.11276596 125.58723404 126.05957447 126.56304348 127.03478261\n",
      " 127.50869565 127.9826087  128.45434783 128.92608696 129.42444444\n",
      " 129.89555556]\n"
     ]
    },
    {
     "data": {
      "text/plain": [
       "[<matplotlib.lines.Line2D at 0x1e24d9ba530>]"
      ]
     },
     "execution_count": 31,
     "metadata": {},
     "output_type": "execute_result"
    },
    {
     "data": {
      "image/png": "[encoded data removed]",
      "text/plain": [
       "<Figure size 640x480 with 1 Axes>"
      ]
     },
     "metadata": {},
     "output_type": "display_data"
    }
   ],
   "source": [
    "periods_uncoupled = np.zeros(len(hes_delays))\n",
    "\n",
    "for i in range(len(hes_delays)):\n",
    "    # Estimate period for each delay\n",
    "    periods_uncoupled[i], _ = estimate_period_from_peaks(results_uncoupled[i, :, 0], time=np.arange(num_tsteps) * dt, distance=500)\n",
    "\n",
    "print(\"Periods for uncoupled oscillations:\", periods_uncoupled)\n",
    "\n",
    "plt.plot(hes_delays, periods_uncoupled, marker='o')"
   ]
  },
  {
   "cell_type": "code",
   "execution_count": 24,
   "id": "77226d94",
   "metadata": {},
   "outputs": [
    {
     "name": "stdout",
     "output_type": "stream",
     "text": [
      "<class 'numpy.ndarray'>\n"
     ]
    }
   ],
   "source": [
    "print(type(periods_uncoupled))"
   ]
  },
  {
   "cell_type": "code",
   "execution_count": 25,
   "id": "7c16afce",
   "metadata": {},
   "outputs": [],
   "source": [
    "with open('periods_uncoupled.pickle', 'wb') as f:\n",
    "    pickle.dump(periods_uncoupled, f)"
   ]
  },
  {
   "cell_type": "code",
   "execution_count": 26,
   "id": "0d307854",
   "metadata": {},
   "outputs": [],
   "source": [
    "with open('periods_uncoupled.pickle', 'rb') as f:\n",
    "    loaded_periods_uncoupled = pickle.load(f)"
   ]
  },
  {
   "cell_type": "code",
   "execution_count": null,
   "id": "3a349b96",
   "metadata": {},
   "outputs": [],
   "source": []
  }
 ],
 "metadata": {
  "kernelspec": {
   "display_name": "Python 3",
   "language": "python",
   "name": "python3"
  },
  "language_info": {
   "codemirror_mode": {
    "name": "ipython",
    "version": 3
   },
   "file_extension": ".py",
   "mimetype": "text/x-python",
   "name": "python",
   "nbconvert_exporter": "python",
   "pygments_lexer": "ipython3",
   "version": "3.10.13"
  }
 },
 "nbformat": 4,
 "nbformat_minor": 5
}

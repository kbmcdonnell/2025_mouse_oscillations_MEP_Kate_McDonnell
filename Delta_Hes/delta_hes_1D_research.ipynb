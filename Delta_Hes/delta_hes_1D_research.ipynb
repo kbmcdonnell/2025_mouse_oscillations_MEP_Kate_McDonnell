{
 "cells": [
  {
   "cell_type": "markdown",
   "id": "13a7adcc",
   "metadata": {},
   "source": [
    "# Investigate behaviour of 1D system"
   ]
  },
  {
   "cell_type": "code",
   "execution_count": 4,
   "id": "4389a96d",
   "metadata": {},
   "outputs": [],
   "source": [
    "# import necessary packages\n",
    "import numpy as np\n",
    "import matplotlib.pyplot as plt\n",
    "from types import SimpleNamespace\n",
    "from matplotlib.animation import FuncAnimation\n",
    "from IPython.display import HTML\n",
    "from tqdm import tqdm\n",
    "import pickle\n",
    "import visualisation as vis\n",
    "from delta_hes_model import *"
   ]
  },
  {
   "cell_type": "markdown",
   "id": "8bf11042",
   "metadata": {},
   "source": [
    "## Functions"
   ]
  },
  {
   "cell_type": "code",
   "execution_count": null,
   "id": "0711ac7e",
   "metadata": {},
   "outputs": [],
   "source": [
    "def test_Delta_coup(coefficient, coup_strength, lattice, params, num_tsteps, dt):\n",
    "    print('Coefficient:', coefficient)\n",
    "    print('Coupling strength:', coup_strength)\n",
    "\n",
    "    params.n = coefficient\n",
    "    params.w_d = coup_strength\n",
    "\n",
    "    h, m_h, d, m_d = simulate(num_tsteps, dt, lattice, params, coupling_type= 'Delta', initial_type='checkerboard')\n",
    "\n",
    "    return h, m_h, d, m_d"
   ]
  },
  {
   "cell_type": "markdown",
   "id": "dc13df4d",
   "metadata": {},
   "source": [
    "## Fixed parameters of the system"
   ]
  },
  {
   "cell_type": "code",
   "execution_count": 2,
   "id": "68f8405d",
   "metadata": {},
   "outputs": [],
   "source": [
    "#set the lattice of the cells \n",
    "P = 20\n",
    "Q = 1\n",
    "\n",
    "lattice = get_lattice(P, Q)\n",
    "\n",
    "# # set initial parameters of the reactions \n",
    "gamma_h = 0.03\n",
    "gamma_d = 0.03\n",
    "gamma_m = 0.03\n",
    "p_h = 100\n",
    "p_d = 100\n",
    "T_h = 20\n",
    "T_coupling = 0\n",
    "w_h = 1\n",
    "w_coupling = 0.01\n",
    "l = 5\n",
    "n = 3\n",
    "\n",
    "params = get_params(gamma_h, gamma_d, gamma_m, p_h, p_d, T_h, T_coupling, w_h, w_coupling, l, n, lattice, grad_hes = True, grad_coup = False, grad_hes_strength = 0.2, grad_coup_strength = 0)"
   ]
  },
  {
   "cell_type": "markdown",
   "id": "85aa6897",
   "metadata": {},
   "source": [
    "## Varying coupling strength and Hill coefficient "
   ]
  },
  {
   "cell_type": "code",
   "execution_count": 3,
   "id": "e4bba14f",
   "metadata": {},
   "outputs": [
    {
     "name": "stdout",
     "output_type": "stream",
     "text": [
      "Hill coefficients: [1, 2, 3, 4, 5]\n",
      "Coupling strengths: [0.   0.05 0.1  0.15 0.2  0.25 0.3  0.35 0.4 ]\n"
     ]
    }
   ],
   "source": [
    "coeff_1D = [1, 2, 3, 4, 5]\n",
    "coupling_strengths_1D = np.linspace(0, 0.4, int(0.4/0.05) + 1)\n",
    "print('Hill coefficients:', coeff_1D)\n",
    "print('Coupling strengths:', coupling_strengths_1D)\n",
    "\n",
    "# results_1D = np.zeros([len(coeff_1D), len(coupling_strengths_1D), num_tsteps, lattice.P, lattice.Q, 4])\n",
    "# #values for system with no Delta\n",
    "# print('Calculating the no coupling system')\n",
    "# h0, m_h0, d0, m_d0 = test_Delta_coup(coeff_1D[0], coupling_strengths_1D[i], lattice, num_tsteps, dt)\n",
    "\n",
    "# for i in range(len(coeff_1D)):\n",
    "#     for j in range(len(coupling_strengths_1D)):\n",
    "#         if j == 0:\n",
    "#             h, m_h, d, m_d = h0, m_h0, d0, m_d0\n",
    "#         else:\n",
    "#             h, m_h, d, m_d = test_Delta_coup(coeff_1D[i], coupling_strengths_1D[j], lattice, num_tsteps, dt)\n",
    "        \n",
    "#         # Save the results in the 5D array\n",
    "#         results_1D[i,j,:,:,:,0] = h\n",
    "#         results_1D[i,j,:,:,:,1] = m_h\n",
    "#         results_1D[i,j,:,:,:,2] = d\n",
    "#         results_1D[i,j,:,:,:,3] = m_d\n",
    "\n",
    "\n",
    "# # save the results to a file\\\n",
    "\n",
    "# data_dict = {\n",
    "#     'results_1D': results_1D,\n",
    "#     'coeff_1D': coeff_1D,\n",
    "#     'coupling_strengths_1D': coupling_strengths_1D, \n",
    "#     'num_tsteps': num_tsteps,\t\n",
    "#     'dt': dt,\n",
    "#     'lattice': lattice,\n",
    "#     'params': params,\n",
    "# }\n",
    "\n",
    "# with open(\"results_delta_15_04_1D.pkl\", \"wb\") as file:\n",
    "#     pickle.dump(data_dict, file)"
   ]
  },
  {
   "cell_type": "markdown",
   "id": "0274ff7a",
   "metadata": {},
   "source": [
    "### Load in data from file"
   ]
  },
  {
   "cell_type": "code",
   "execution_count": null,
   "id": "0a108ed2",
   "metadata": {},
   "outputs": [],
   "source": []
  },
  {
   "cell_type": "markdown",
   "id": "ad17f2f5",
   "metadata": {},
   "source": [
    "### Plots"
   ]
  },
  {
   "cell_type": "code",
   "execution_count": null,
   "id": "00be56bb",
   "metadata": {},
   "outputs": [],
   "source": [
    "# Set up the figure and two axes for vertically stacked images\n",
    "for i in range(len(coeff_1D)):\n",
    "    for j in range(len(coupling_strengths_1D)):\n",
    "\n",
    "        fig, (ax1, ax2) = plt.subplots(1, 2, figsize=(6,3), constrained_layout=True)\n",
    "        h_flat = results_1D[i,j,2000:,:,0,0].reshape(num_tsteps-2000, lattice.P)\n",
    "        d_flat = results_1D[i,j,2000:,:,0,2].reshape(num_tsteps-2000, lattice.P)\n",
    "\n",
    "        # Plot the first image\n",
    "        im1 = ax1.imshow(h_flat, aspect = 'auto',  cmap='YlOrRd', vmin = np.min(h_flat), vmax = np.ceil(np.max(h_flat)))\n",
    "        ax1.set_ylabel('Time')\n",
    "        ax1.set_xlabel('Cells')\n",
    "        ax1.set_title('coupling strength = ' + str(coupling_strengths_1D[j]))\n",
    "\n",
    "        # Add colorbar for the first image\n",
    "        cbar1 = fig.colorbar(im1, ax=ax1, orientation='vertical', fraction=0.1, pad=0.2)\n",
    "        cbar1.set_label('Hes values')\n",
    "\n",
    "        # Plot the second image\n",
    "        im2 = ax2.imshow(d_flat, aspect = 'auto',  cmap='YlOrRd', vmin = np.min(d_flat), vmax = np.ceil(np.max(d_flat)))\n",
    "        ax2.set_title('coefficient = ' + str(coeff_1D[i]))\n",
    "\n",
    "        # Add colorbar for the second image\n",
    "        cbar2 = fig.colorbar(im2, ax=ax2, orientation='vertical', fraction=0.1, pad=0.2)\n",
    "        cbar2.set_label('Delta values')\n",
    "\n",
    "        fig.savefig('1D_h_d_coeff_' + str(coeff_1D[i]) + '_coup_' + str(coupling_strengths_1D[j]) + '.png', dpi=300, bbox_inches='tight')"
   ]
  }
 ],
 "metadata": {
  "kernelspec": {
   "display_name": "Python 3",
   "language": "python",
   "name": "python3"
  },
  "language_info": {
   "codemirror_mode": {
    "name": "ipython",
    "version": 3
   },
   "file_extension": ".py",
   "mimetype": "text/x-python",
   "name": "python",
   "nbconvert_exporter": "python",
   "pygments_lexer": "ipython3",
   "version": "3.10.13"
  }
 },
 "nbformat": 4,
 "nbformat_minor": 5
}

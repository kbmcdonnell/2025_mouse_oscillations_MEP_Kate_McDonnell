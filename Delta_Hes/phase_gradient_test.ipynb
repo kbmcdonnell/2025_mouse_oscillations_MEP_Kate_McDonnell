{
 "cells": [
  {
   "cell_type": "code",
   "execution_count": null,
   "id": "61dd0461",
   "metadata": {},
   "outputs": [],
   "source": [
    "\n",
    "import numpy as np\n",
    "from delta_hes_model import *\n",
    "\n",
    "\n",
    "\n"
   ]
  },
  {
   "cell_type": "code",
   "execution_count": 10,
   "id": "371b4d78",
   "metadata": {},
   "outputs": [
    {
     "name": "stdout",
     "output_type": "stream",
     "text": [
      "[0 1 2 3 4 5 6 7 8 9]\n",
      "[ 1.  2.  4.  6.  8. 10. 12. 14. 16.  8.]\n"
     ]
    }
   ],
   "source": [
    "d = np.arange(10)\n",
    "P = 10 \n",
    "Q = 1\n",
    "\n",
    "conn_matrix = connectivitymatrix(P, Q)\n",
    "\n",
    "\n",
    "d_neighbours = np.sum(conn_matrix * d.flatten(), axis=1)\n",
    "print(d)\n",
    "print(d_neighbours)"
   ]
  },
  {
   "cell_type": "code",
   "execution_count": 4,
   "id": "2dcce147",
   "metadata": {},
   "outputs": [
    {
     "name": "stdout",
     "output_type": "stream",
     "text": [
      "[-0.51684466  0.83260341  1.49352514  2.22568772  3.10557029 -2.46789324\n",
      " -1.64005099 -0.84435759 -0.09001875  0.70430124  1.49851415  2.31744573\n",
      "  3.09615914 -2.3626322  -1.63915801 -0.94922512 -0.12924277  0.42295865\n",
      "  1.48945421 -2.62474799]\n",
      "phase gradient [ 1.34944807  1.0051849   0.69654215  0.80602257 -2.34679048 -2.37281064\n",
      "  0.81176782  0.77501612  0.77432942  0.79426645  0.80657224  0.79882249\n",
      " -2.34003896 -2.36765857  0.70670354  0.75495762  0.68609189  0.80934849\n",
      " -1.52385332 -4.1142022 ]\n",
      "5.88900924514885\n"
     ]
    }
   ],
   "source": [
    "import numpy as np\n",
    "import matplotlib.pyplot as plt\n",
    "\n",
    "t = np.arange(10000)*0.1\n",
    "n = 20\n",
    "x = np.zeros([len(t),n])\n",
    "for i in range(n):\n",
    "    x[:,i] = np.sin(t + np.pi/4*i) #phase shift each x by n\n",
    "    \n",
    "# Calculate the phase gradient \n",
    "from scipy.signal import hilbert \n",
    "\n",
    "analytic_signal = hilbert(x[15,:])\n",
    "instantaneous_phase = np.angle(analytic_signal)  # phase at each time\n",
    "print(instantaneous_phase)\n",
    "\n",
    "phase_gradient = np.gradient(instantaneous_phase)\n",
    "print('phase gradient', phase_gradient)\n",
    "\n",
    "unwrapped_phase = np.unwrap(instantaneous_phase)\n",
    "\n",
    "# Option 1: Compute gradient and sum it\n",
    "dx = 1  # spatial step size\n",
    "phase_gradient = np.gradient(unwrapped_phase, dx)\n",
    "total_phase_shift = np.sum(phase_gradient)\n",
    "print(total_phase_shift/np.pi)"
   ]
  },
  {
   "cell_type": "code",
   "execution_count": null,
   "id": "2ce7e583",
   "metadata": {},
   "outputs": [],
   "source": [
    "# Take a snapshot in time (e.g., t = 0)\n",
    "snapshot = x[10, :]  # signal across cells at t = 0\n",
    "\n",
    "# Use Hilbert transform to get spatial phase at that time point\n",
    "analytic_signal = hilbert(snapshot)\n",
    "instantaneous_phase = np.angle(analytic_signal)\n",
    "unwrapped_phase = np.unwrap(instantaneous_phase)\n",
    "\n",
    "for i in range(n):\n",
    "    if unwrapped_phase[i] < 0:\n",
    "        unwrapped_phase *= -1\n",
    "\n",
    "plt.figure()\n",
    "plt.plot(snapshot)\n",
    "plt.plot(analytic_signal)\n",
    "\n",
    "# Compute spatial gradient\n",
    "dx = 1\n",
    "phase_gradient = np.gradient(unwrapped_phase, dx)\n",
    "print(phase_gradient.shape)\n",
    "plt.figure()\n",
    "plt.plot(phase_gradient)\n",
    "# Compute total phase shift across all cells\n",
    "total_phase_shift = np.sum(phase_gradient)\n",
    "\n",
    "print(f\"Total Phase Shift: {total_phase_shift:.2f} rad\")\n",
    "print(f\"Total Phase Shift in pi units: {total_phase_shift/np.pi:.2f} π\")\n",
    "print(f\"Expected: {(n-1)*(np.pi/4):.2f} rad = {(n-1)/4:.2f} π\")\n",
    "print(f'Begin - end unwrapped phase: {(unwrapped_phase[-1]-unwrapped_phase[0])/np.pi:.2f} pi')\n",
    "# Plot\n",
    "plt.figure()\n",
    "plt.plot(unwrapped_phase, marker='o')\n",
    "plt.title(\"Unwrapped Phase Across Cells at t = 0\")\n",
    "plt.xlabel(\"Cell Index\")\n",
    "plt.ylabel(\"Phase (radians)\")\n",
    "plt.grid(True)\n",
    "plt.show()"
   ]
  },
  {
   "cell_type": "code",
   "execution_count": null,
   "id": "63289849",
   "metadata": {},
   "outputs": [],
   "source": [
    "from scipy.signal import find_peaks\n",
    "\n",
    "# Store peak times for each cell\n",
    "first_peak_times = np.zeros(n)\n",
    "\n",
    "for i in range(n):\n",
    "    signal = x[:, i]\n",
    "\n",
    "    # Find peaks\n",
    "    peaks, _ = find_peaks(signal, distance=20)  # adjust `distance` as needed\n",
    "\n",
    "    if len(peaks) > 0:\n",
    "        first_peak_times[i] = t[peaks[0]]\n",
    "    else:\n",
    "        first_peak_times[i] = np.nan  # or handle missing peaks\n",
    "\n",
    "# Estimate period from one representative cell (or global average if needed)\n",
    "ref_peaks, _ = find_peaks(x[:, 0], distance=20)\n",
    "ref_periods = np.diff(t[ref_peaks])\n",
    "mean_period = np.mean(ref_periods)\n",
    "\n",
    "# Calculate time differences\n",
    "time_diffs = first_peak_times - first_peak_times[0]\n",
    "\n",
    "# Convert to phase: φ = Δt / T * 2π (accumulates!)\n",
    "phase_shifts = time_diffs / mean_period * 2 * np.pi\n",
    "\n",
    "# Now accumulate the phase shift (additive)\n",
    "accumulated_phase_shift = np.cumsum(phase_shifts)  # cumulative sum across cells"
   ]
  },
  {
   "cell_type": "code",
   "execution_count": null,
   "id": "398cb66e",
   "metadata": {},
   "outputs": [],
   "source": [
    "plt.figure(figsize=(8, 4))\n",
    "plt.plot(accumulated_phase_shift, marker='o', label='Cumulative Phase Shift')\n",
    "plt.axhline(2*np.pi, color='gray', linestyle='--', label='2π')\n",
    "plt.axhline(4*np.pi, color='gray', linestyle='--', label='4π')\n",
    "plt.xlabel(\"Cell Index\")\n",
    "plt.ylabel(\"Accumulated Phase Shift (radians)\")\n",
    "plt.title(\"Cumulative Phase Shift Across Cells\")\n",
    "plt.grid(True)\n",
    "plt.legend()\n",
    "plt.tight_layout()\n",
    "plt.show()\n",
    "\n",
    "# Print the total accumulated phase shift\n",
    "total_phase_shift = accumulated_phase_shift[-1]\n",
    "print(f\"Total Accumulated Phase Shift: {total_phase_shift:.2f} rad ≈ {total_phase_shift/np.pi:.2f} π\")"
   ]
  },
  {
   "cell_type": "code",
   "execution_count": null,
   "id": "4fb10687",
   "metadata": {},
   "outputs": [],
   "source": [
    "plt.figure(figsize=(8, 4))\n",
    "plt.plot(phase_shifts, marker='o', label='Accumulated Phase Shift')\n",
    "plt.axhline(2*np.pi, color='gray', linestyle='--', label='2π')\n",
    "plt.axhline(4*np.pi, color='gray', linestyle='--', label='4π')\n",
    "plt.xlabel(\"Cell Index\")\n",
    "plt.ylabel(\"Phase Shift (radians)\")\n",
    "plt.title(\"Accumulative Phase Shift Across Cells\")\n",
    "plt.grid(True)\n",
    "plt.legend()\n",
    "plt.tight_layout()\n",
    "plt.show()\n",
    "\n",
    "print(f\"Total Phase Shift: {phase_shifts[-1]:.2f} rad ≈ {phase_shifts[-1]/np.pi:.2f} π\")"
   ]
  },
  {
   "cell_type": "code",
   "execution_count": null,
   "id": "115c2b4f",
   "metadata": {},
   "outputs": [],
   "source": [
    "plt.figure(figsize=(8, 4))\n",
    "plt.plot(phase_shifts, marker='o')\n",
    "plt.title(\"Phase Shift Across Cells (Peak-based)\")\n",
    "plt.xlabel(\"Cell Index\")\n",
    "plt.ylabel(\"Phase Shift (radians)\")\n",
    "plt.grid(True)\n",
    "\n",
    "# Also show total phase shift\n",
    "total_shift = phase_shifts[-1] - phase_shifts[0]\n",
    "print(f\"Total phase shift: {total_shift:.2f} rad ≈ {total_shift / np.pi:.2f} π\")"
   ]
  },
  {
   "cell_type": "code",
   "execution_count": 5,
   "id": "caaacc50",
   "metadata": {},
   "outputs": [
    {
     "name": "stdout",
     "output_type": "stream",
     "text": [
      "[0 0 0 1 1 1]\n",
      "[1 1 0 1 1 1]\n",
      "[1 0 0 0 1 1]\n",
      "first zero index: [0 2 1]\n",
      "last zero index: [2 2 3]\n"
     ]
    }
   ],
   "source": [
    "import numpy as np \n",
    "\n",
    "d_diff = np.array([[0,0,0,1,1,1], [1,1,0,1,1,1], [1, 0, 0, 0, 1, 1]])\n",
    "first_zero_index = np.zeros(3, dtype=int)\n",
    "last_zero_index = np.zeros(3, dtype=int)\n",
    "\n",
    "for i in range(3): \n",
    "    if np.any(d_diff[i] == 0):\n",
    "        print(d_diff[i])\n",
    "        zero_indices = np.where(d_diff[i] == 0)[0]\n",
    "        first_zero_index[i] = zero_indices[0]\n",
    "        last_zero_index[i] = zero_indices[-1]\n",
    "\n",
    "print('first zero index:', first_zero_index)\n",
    "print('last zero index:', last_zero_index)\n"
   ]
  },
  {
   "cell_type": "code",
   "execution_count": null,
   "id": "23dedc21",
   "metadata": {},
   "outputs": [],
   "source": []
  }
 ],
 "metadata": {
  "kernelspec": {
   "display_name": "Python 3",
   "language": "python",
   "name": "python3"
  },
  "language_info": {
   "codemirror_mode": {
    "name": "ipython",
    "version": 3
   },
   "file_extension": ".py",
   "mimetype": "text/x-python",
   "name": "python",
   "nbconvert_exporter": "python",
   "pygments_lexer": "ipython3",
   "version": "3.10.13"
  }
 },
 "nbformat": 4,
 "nbformat_minor": 5
}
